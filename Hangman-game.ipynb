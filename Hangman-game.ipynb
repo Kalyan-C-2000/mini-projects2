{
 "cells": [
  {
   "cell_type": "code",
   "execution_count": null,
   "id": "951b8024-546f-47e3-a18e-78e5b3824b83",
   "metadata": {},
   "outputs": [
    {
     "name": "stdout",
     "output_type": "stream",
     "text": [
      "Welcome to hangman\n",
      "-------------------------------------------\n",
      "_ _ _ _ _ _ _ _ _ \n",
      "Letters guessed so far: \n"
     ]
    },
    {
     "name": "stdin",
     "output_type": "stream",
     "text": [
      "\n",
      "Guess a letter:  A\n"
     ]
    },
    {
     "name": "stdout",
     "output_type": "stream",
     "text": [
      "\n",
      "+---+\n",
      "O   |\n",
      "    |\n",
      "    |\n",
      "   ===\n",
      "                  \n",
      "‾ ‾ ‾ ‾ ‾ ‾ ‾ ‾ ‾ \n",
      "Letters guessed so far: \n",
      "A "
     ]
    },
    {
     "name": "stdin",
     "output_type": "stream",
     "text": [
      "\n",
      "Guess a letter:  u\n"
     ]
    },
    {
     "name": "stdout",
     "output_type": "stream",
     "text": [
      "\n",
      "+---+\n",
      "O   |\n",
      "|   |\n",
      "    |\n",
      "   ===\n",
      "  u               \n",
      "‾ ‾ ‾ ‾ ‾ ‾ ‾ ‾ ‾ \n",
      "Letters guessed so far: \n",
      "A u "
     ]
    }
   ],
   "source": [
    "\n",
    "import random\n",
    "\n",
    "print(\"Welcome to hangman\")\n",
    "print(\"-------------------------------------------\")\n",
    "\n",
    "wordDictionary = [\"sunflower\", \"house\", \"diamond\", \"memes\",\"yeet\",\"hello\", \"howdy\", \"like\", \"subscribe\"]\n",
    "\n",
    "### Choose a random word\n",
    "randomWord = random.choice(wordDictionary)\n",
    "\n",
    "for x in randomWord:\n",
    "  print(\"_\", end=\" \")\n",
    "\n",
    "def print_hangman(wrong):\n",
    "  if(wrong == 0):\n",
    "    print(\"\\n+---+\")\n",
    "    print(\"    |\")\n",
    "    print(\"    |\")\n",
    "    print(\"    |\")\n",
    "    print(\"   ===\")\n",
    "  elif(wrong == 1): \n",
    "    print(\"\\n+---+\")\n",
    "    print(\"O   |\")\n",
    "    print(\"    |\")\n",
    "    print(\"    |\")\n",
    "    print(\"   ===\")\n",
    "  elif(wrong == 2):\n",
    "    print(\"\\n+---+\")\n",
    "    print(\"O   |\")\n",
    "    print(\"|   |\")\n",
    "    print(\"    |\")\n",
    "    print(\"   ===\")\n",
    "  elif(wrong == 3):\n",
    "    print(\"\\n+---+\")\n",
    "    print(\" O  |\")\n",
    "    print(\"/|  |\")\n",
    "    print(\"    |\")\n",
    "    print(\"   ===\")\n",
    "  elif(wrong == 4):\n",
    "    print(\"\\n+---+\")\n",
    "    print(\" O  |\")\n",
    "    print(\"/|\\ |\")\n",
    "    print(\"    |\")\n",
    "    print(\"   ===\")\n",
    "  elif(wrong == 5):\n",
    "    print(\"\\n+---+\")\n",
    "    print(\" O  |\")\n",
    "    print(\"/|\\ |\")\n",
    "    print(\"/   |\")\n",
    "    print(\"   ===\")\n",
    "  elif(wrong == 6):\n",
    "    print(\"\\n+---+\")\n",
    "    print(\" O   |\")\n",
    "    print(\"/|\\  |\")\n",
    "    print(\"/ \\  |\")\n",
    "    print(\"    ===\")\n",
    "\n",
    "def printWord(guessedLetters):\n",
    "  counter=0\n",
    "  rightLetters=0\n",
    "  for char in randomWord:\n",
    "    if(char in guessedLetters):\n",
    "      print(randomWord[counter], end=\" \")\n",
    "      rightLetters+=1\n",
    "    else:\n",
    "      print(\" \", end=\" \")\n",
    "    counter+=1\n",
    "  return rightLetters\n",
    "\n",
    "def printLines():\n",
    "  print(\"\\r\")\n",
    "  for char in randomWord:\n",
    "    print(\"\\u203E\", end=\" \")\n",
    "\n",
    "length_of_word_to_guess = len(randomWord)\n",
    "amount_of_times_wrong = 0\n",
    "current_guess_index = 0\n",
    "current_letters_guessed = []\n",
    "current_letters_right = 0\n",
    "\n",
    "while(amount_of_times_wrong != 6 and current_letters_right != length_of_word_to_guess):\n",
    "  print(\"\\nLetters guessed so far: \")\n",
    "  for letter in current_letters_guessed:\n",
    "    print(letter, end=\" \")\n",
    "  ### Prompt user for input\n",
    "  letterGuessed = input(\"\\nGuess a letter: \")\n",
    "  ### User is right\n",
    "  if(randomWord[current_guess_index] == letterGuessed):\n",
    "    print_hangman(amount_of_times_wrong)\n",
    "    ### Print word\n",
    "    current_guess_index+=1\n",
    "    current_letters_guessed.append(letterGuessed)\n",
    "    current_letters_right = printWord(current_letters_guessed)\n",
    "    printLines()\n",
    "  ### User was wrong af\n",
    "  else:\n",
    "    amount_of_times_wrong+=1\n",
    "    current_letters_guessed.append(letterGuessed)\n",
    "    ### Update the drawing\n",
    "    print_hangman(amount_of_times_wrong)\n",
    "    ### Print word\n",
    "    current_letters_right = printWord(current_letters_guessed)\n",
    "    printLines()\n",
    "\n",
    "print(\"Game is over! Thank you for playing :)\")\n"
   ]
  },
  {
   "cell_type": "code",
   "execution_count": null,
   "id": "ae6e1315-3064-4531-8cf5-a6178de8bf5d",
   "metadata": {},
   "outputs": [],
   "source": []
  }
 ],
 "metadata": {
  "kernelspec": {
   "display_name": "Python 3 (ipykernel)",
   "language": "python",
   "name": "python3"
  },
  "language_info": {
   "codemirror_mode": {
    "name": "ipython",
    "version": 3
   },
   "file_extension": ".py",
   "mimetype": "text/x-python",
   "name": "python",
   "nbconvert_exporter": "python",
   "pygments_lexer": "ipython3",
   "version": "3.11.7"
  }
 },
 "nbformat": 4,
 "nbformat_minor": 5
}
